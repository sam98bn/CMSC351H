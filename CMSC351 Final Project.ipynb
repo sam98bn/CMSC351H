{
 "cells": [
  {
   "cell_type": "code",
   "execution_count": null,
   "metadata": {},
   "outputs": [],
   "source": [
    "import pandas as pd\n",
    "import numpy as np\n",
    "with open(\"cardio_train.csv\") as file:\n",
    "    df = pd.read_csv(file, delimiter=\";\")"
   ]
  },
  {
   "cell_type": "code",
   "execution_count": null,
   "metadata": {},
   "outputs": [],
   "source": [
    "df[\"BMI\"] = df.weight / ((df.height/100)**2)"
   ]
  },
  {
   "cell_type": "code",
   "execution_count": null,
   "metadata": {},
   "outputs": [],
   "source": [
    "df[\"c_ap_hi\"] = \"\"\n",
    "df[\"c_ap_lo\"] = \"\"\n",
    "df[\"c_weight\"] = \"\""
   ]
  },
  {
   "cell_type": "code",
   "execution_count": null,
   "metadata": {},
   "outputs": [],
   "source": [
    "for i, row in df.iterrows():\n",
    "    if row[\"BMI\"] < 18.5:\n",
    "        df.at[i, \"c_weight\"] = 1\n",
    "    elif row[\"BMI\"] < 25:\n",
    "        df.at[i, \"c_weight\"] = 2\n",
    "    elif row[\"BMI\"] < 30:\n",
    "        df.at[i, \"c_weight\"] = 3\n",
    "    else:\n",
    "        df.at[i, \"c_weight\"] = 4"
   ]
  },
  {
   "cell_type": "code",
   "execution_count": null,
   "metadata": {},
   "outputs": [],
   "source": [
    "for i, row in df.iterrows():\n",
    "    if row[\"ap_hi\"] < 120:\n",
    "        df.at[i, \"c_ap_hi\"] = 1\n",
    "    elif row[\"ap_hi\"] < 130:\n",
    "        df.at[i, \"c_ap_hi\"] = 2\n",
    "    else:\n",
    "        df.at[i, \"c_ap_hi\"] = 3"
   ]
  },
  {
   "cell_type": "code",
   "execution_count": null,
   "metadata": {},
   "outputs": [],
   "source": [
    "for i, row in df.iterrows():\n",
    "    if row[\"ap_lo\"] < 80:\n",
    "        df.at[i, \"c_ap_lo\"] = 1\n",
    "    elif row[\"ap_lo\"] < 90:\n",
    "        df.at[i, \"c_ap_lo\"] = 2\n",
    "    else:\n",
    "        df.at[i, \"c_ap_lo\"] = 3"
   ]
  },
  {
   "cell_type": "code",
   "execution_count": null,
   "metadata": {},
   "outputs": [],
   "source": [
    "df = df.drop([\"age\", \"ap_hi\", \"ap_lo\", \"BMI\", \"height\", \"weight\", \"id\"], axis=1)"
   ]
  },
  {
   "cell_type": "code",
   "execution_count": null,
   "metadata": {},
   "outputs": [],
   "source": [
    "df[\"gender\"].value_counts(normalize=True)"
   ]
  },
  {
   "cell_type": "code",
   "execution_count": null,
   "metadata": {},
   "outputs": [],
   "source": [
    "df[\"alco\"].value_counts(normalize=True)"
   ]
  },
  {
   "cell_type": "code",
   "execution_count": null,
   "metadata": {},
   "outputs": [],
   "source": [
    "df[\"smoke\"].value_counts(normalize=True)"
   ]
  },
  {
   "cell_type": "code",
   "execution_count": null,
   "metadata": {},
   "outputs": [],
   "source": [
    "df[\"active\"].value_counts(normalize=True)"
   ]
  },
  {
   "cell_type": "code",
   "execution_count": null,
   "metadata": {},
   "outputs": [],
   "source": [
    "df =df.astype(\"category\")"
   ]
  },
  {
   "cell_type": "code",
   "execution_count": null,
   "metadata": {},
   "outputs": [],
   "source": [
    "df = df.drop([\"gender\", \"alco\", \"c_ap_lo\", \"gluc\", \"active\"], axis=1)"
   ]
  },
  {
   "cell_type": "code",
   "execution_count": null,
   "metadata": {},
   "outputs": [],
   "source": [
    "def likelihood(variables, df):\n",
    "    df2 = df.groupby(list(df.columns)).size().reset_index().rename(columns={0:'count'})\n",
    "    df2[\"count\"] = df2[\"count\"]/sum(df2[\"count\"])\n",
    "    for i, row in df2.iterrows():\n",
    "        if all(row[0:len(df.columns)]==variables):\n",
    "            return row[len(df.columns)]"
   ]
  },
  {
   "cell_type": "code",
   "execution_count": null,
   "metadata": {},
   "outputs": [],
   "source": [
    "from itertools import chain, combinations\n",
    "def powerset(iterable):\n",
    "    s = list(iterable)\n",
    "    return chain.from_iterable(combinations(s, r) for r in range(len(s)+1))"
   ]
  },
  {
   "cell_type": "code",
   "execution_count": null,
   "metadata": {},
   "outputs": [],
   "source": [
    "import math\n",
    "def structure(variables, df):\n",
    "    parents = []\n",
    "    maximum = None\n",
    "    for candidate in powerset(variables):\n",
    "        if len(candidate) == 0:\n",
    "            continue\n",
    "        score = 0\n",
    "        for i, row in df.iterrows():\n",
    "            score += math.log2(likelihood(row[list(candidate)], df[list(candidate)]))\n",
    "        dim = 0\n",
    "        for attribute in candidate:\n",
    "            dim += len(list(df[attribute].values.categories))\n",
    "        score -= 0.5 * math.log2(df.size) * dim\n",
    "        if maximum == None or score > maximum:\n",
    "            maximum = score\n",
    "            parents = candidate\n",
    "    return parents"
   ]
  },
  {
   "cell_type": "code",
   "execution_count": null,
   "metadata": {
    "scrolled": true
   },
   "outputs": [],
   "source": [
    "subset_length = 2000\n",
    "structure(list(df.columns), df[:subset_length])"
   ]
  },
  {
   "cell_type": "code",
   "execution_count": null,
   "metadata": {},
   "outputs": [],
   "source": []
  }
 ],
 "metadata": {
  "kernelspec": {
   "display_name": "Python 3",
   "language": "python",
   "name": "python3"
  },
  "language_info": {
   "codemirror_mode": {
    "name": "ipython",
    "version": 3
   },
   "file_extension": ".py",
   "mimetype": "text/x-python",
   "name": "python",
   "nbconvert_exporter": "python",
   "pygments_lexer": "ipython3",
   "version": "3.7.2"
  }
 },
 "nbformat": 4,
 "nbformat_minor": 2
}
